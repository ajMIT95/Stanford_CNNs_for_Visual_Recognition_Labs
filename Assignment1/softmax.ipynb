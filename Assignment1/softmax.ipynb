{
 "cells": [
  {
   "cell_type": "markdown",
   "metadata": {},
   "source": [
    "# Softmax exercise\n",
    "\n",
    "*Complete and hand in this completed worksheet (including its outputs and any supporting code outside of the worksheet) with your assignment submission. For more details see the [assignments page](http://vision.stanford.edu/teaching/cs231n/assignments.html) on the course website.*\n",
    "\n",
    "This exercise is analogous to the SVM exercise. You will:\n",
    "\n",
    "- implement a fully-vectorized **loss function** for the Softmax classifier\n",
    "- implement the fully-vectorized expression for its **analytic gradient**\n",
    "- **check your implementation** with numerical gradient\n",
    "- use a validation set to **tune the learning rate and regularization** strength\n",
    "- **optimize** the loss function with **SGD**\n",
    "- **visualize** the final learned weights\n"
   ]
  },
  {
   "cell_type": "code",
   "execution_count": 1,
   "metadata": {
    "collapsed": true
   },
   "outputs": [],
   "source": [
    "import random\n",
    "import numpy as np\n",
    "from cs231n.data_utils import load_CIFAR10\n",
    "import matplotlib.pyplot as plt\n",
    "\n",
    "from __future__ import print_function\n",
    "\n",
    "%matplotlib inline\n",
    "plt.rcParams['figure.figsize'] = (10.0, 8.0) # set default size of plots\n",
    "plt.rcParams['image.interpolation'] = 'nearest'\n",
    "plt.rcParams['image.cmap'] = 'gray'\n",
    "\n",
    "# for auto-reloading extenrnal modules\n",
    "# see http://stackoverflow.com/questions/1907993/autoreload-of-modules-in-ipython\n",
    "%load_ext autoreload\n",
    "%autoreload 2"
   ]
  },
  {
   "cell_type": "code",
   "execution_count": 2,
   "metadata": {
    "collapsed": false
   },
   "outputs": [
    {
     "name": "stdout",
     "output_type": "stream",
     "text": [
      "Train data shape:  (49000, 3073)\n",
      "Train labels shape:  (49000,)\n",
      "Validation data shape:  (1000, 3073)\n",
      "Validation labels shape:  (1000,)\n",
      "Test data shape:  (1000, 3073)\n",
      "Test labels shape:  (1000,)\n",
      "dev data shape:  (500, 3073)\n",
      "dev labels shape:  (500,)\n"
     ]
    }
   ],
   "source": [
    "def get_CIFAR10_data(num_training=49000, num_validation=1000, num_test=1000, num_dev=500):\n",
    "    \"\"\"\n",
    "    Load the CIFAR-10 dataset from disk and perform preprocessing to prepare\n",
    "    it for the linear classifier. These are the same steps as we used for the\n",
    "    SVM, but condensed to a single function.  \n",
    "    \"\"\"\n",
    "    # Load the raw CIFAR-10 data\n",
    "    cifar10_dir = 'cs231n/datasets/cifar-10-batches-py'\n",
    "    X_train, y_train, X_test, y_test = load_CIFAR10(cifar10_dir)\n",
    "    \n",
    "    # subsample the data\n",
    "    mask = list(range(num_training, num_training + num_validation))\n",
    "    X_val = X_train[mask]\n",
    "    y_val = y_train[mask]\n",
    "    mask = list(range(num_training))\n",
    "    X_train = X_train[mask]\n",
    "    y_train = y_train[mask]\n",
    "    mask = list(range(num_test))\n",
    "    X_test = X_test[mask]\n",
    "    y_test = y_test[mask]\n",
    "    mask = np.random.choice(num_training, num_dev, replace=False)\n",
    "    X_dev = X_train[mask]\n",
    "    y_dev = y_train[mask]\n",
    "    \n",
    "    # Preprocessing: reshape the image data into rows\n",
    "    X_train = np.reshape(X_train, (X_train.shape[0], -1))\n",
    "    X_val = np.reshape(X_val, (X_val.shape[0], -1))\n",
    "    X_test = np.reshape(X_test, (X_test.shape[0], -1))\n",
    "    X_dev = np.reshape(X_dev, (X_dev.shape[0], -1))\n",
    "    \n",
    "    # Normalize the data: subtract the mean image\n",
    "    mean_image = np.mean(X_train, axis = 0)\n",
    "    X_train -= mean_image\n",
    "    X_val -= mean_image\n",
    "    X_test -= mean_image\n",
    "    X_dev -= mean_image\n",
    "    \n",
    "    # add bias dimension and transform into columns\n",
    "    X_train = np.hstack([X_train, np.ones((X_train.shape[0], 1))])\n",
    "    X_val = np.hstack([X_val, np.ones((X_val.shape[0], 1))])\n",
    "    X_test = np.hstack([X_test, np.ones((X_test.shape[0], 1))])\n",
    "    X_dev = np.hstack([X_dev, np.ones((X_dev.shape[0], 1))])\n",
    "    \n",
    "    return X_train, y_train, X_val, y_val, X_test, y_test, X_dev, y_dev\n",
    "\n",
    "\n",
    "# Invoke the above function to get our data.\n",
    "X_train, y_train, X_val, y_val, X_test, y_test, X_dev, y_dev = get_CIFAR10_data()\n",
    "print('Train data shape: ', X_train.shape)\n",
    "print('Train labels shape: ', y_train.shape)\n",
    "print('Validation data shape: ', X_val.shape)\n",
    "print('Validation labels shape: ', y_val.shape)\n",
    "print('Test data shape: ', X_test.shape)\n",
    "print('Test labels shape: ', y_test.shape)\n",
    "print('dev data shape: ', X_dev.shape)\n",
    "print('dev labels shape: ', y_dev.shape)"
   ]
  },
  {
   "cell_type": "markdown",
   "metadata": {},
   "source": [
    "## Softmax Classifier\n",
    "\n",
    "Your code for this section will all be written inside **cs231n/classifiers/softmax.py**. \n"
   ]
  },
  {
   "cell_type": "code",
   "execution_count": 3,
   "metadata": {
    "collapsed": false
   },
   "outputs": [
    {
     "name": "stdout",
     "output_type": "stream",
     "text": [
      "loss: 2.317076\n",
      "sanity check: 2.302585\n"
     ]
    }
   ],
   "source": [
    "# First implement the naive softmax loss function with nested loops.\n",
    "# Open the file cs231n/classifiers/softmax.py and implement the\n",
    "# softmax_loss_naive function.\n",
    "\n",
    "from cs231n.classifiers.softmax import softmax_loss_naive\n",
    "import time\n",
    "\n",
    "# Generate a random softmax weight matrix and use it to compute the loss.\n",
    "W = np.random.randn(3073, 10) * 0.0001\n",
    "loss, grad = softmax_loss_naive(W, X_dev, y_dev, 0.0)\n",
    "\n",
    "# As a rough sanity check, our loss should be something close to -log(0.1).\n",
    "print('loss: %f' % loss)\n",
    "print('sanity check: %f' % (-np.log(0.1)))"
   ]
  },
  {
   "cell_type": "markdown",
   "metadata": {},
   "source": [
    "## Inline Question 1:\n",
    "Why do we expect our loss to be close to -log(0.1)? Explain briefly.**\n",
    "\n",
    "**Your answer:** *Fill this in*\n"
   ]
  },
  {
   "cell_type": "code",
   "execution_count": 4,
   "metadata": {
    "collapsed": false
   },
   "outputs": [
    {
     "name": "stdout",
     "output_type": "stream",
     "text": [
      "numerical: 1.601149 analytic: 1.601149, relative error: 1.699166e-08\n",
      "numerical: 1.596065 analytic: 1.596065, relative error: 1.204908e-08\n",
      "numerical: -1.558894 analytic: -1.558894, relative error: 2.196428e-08\n",
      "numerical: 1.001636 analytic: 1.001636, relative error: 4.685367e-08\n",
      "numerical: -0.702764 analytic: -0.702764, relative error: 4.663289e-08\n",
      "numerical: -1.408702 analytic: -1.408702, relative error: 4.637658e-08\n",
      "numerical: 1.876370 analytic: 1.876370, relative error: 1.506500e-08\n",
      "numerical: 0.304884 analytic: 0.304884, relative error: 1.267815e-08\n",
      "numerical: 0.505284 analytic: 0.505283, relative error: 7.091331e-08\n",
      "numerical: -3.515927 analytic: -3.515927, relative error: 1.486471e-08\n",
      "numerical: -1.241061 analytic: -1.241061, relative error: 6.744644e-08\n",
      "numerical: -1.024348 analytic: -1.024348, relative error: 2.854713e-08\n",
      "numerical: -3.590393 analytic: -3.590393, relative error: 1.875300e-09\n",
      "numerical: -1.460483 analytic: -1.460483, relative error: 1.268501e-08\n",
      "numerical: -2.731107 analytic: -2.731107, relative error: 1.716332e-08\n",
      "numerical: -0.051096 analytic: -0.051096, relative error: 2.388801e-07\n",
      "numerical: 3.293281 analytic: 3.293281, relative error: 1.072411e-08\n",
      "numerical: 0.779245 analytic: 0.779245, relative error: 2.039384e-08\n",
      "numerical: 2.892444 analytic: 2.892444, relative error: 2.654417e-08\n",
      "numerical: 0.682084 analytic: 0.682084, relative error: 1.290317e-07\n"
     ]
    }
   ],
   "source": [
    "# Complete the implementation of softmax_loss_naive and implement a (naive)\n",
    "# version of the gradient that uses nested loops.\n",
    "loss, grad = softmax_loss_naive(W, X_dev, y_dev, 0.0)\n",
    "\n",
    "# As we did for the SVM, use numeric gradient checking as a debugging tool.\n",
    "# The numeric gradient should be close to the analytic gradient.\n",
    "from cs231n.gradient_check import grad_check_sparse\n",
    "f = lambda w: softmax_loss_naive(w, X_dev, y_dev, 0.0)[0]\n",
    "grad_numerical = grad_check_sparse(f, W, grad, 10)\n",
    "\n",
    "# similar to SVM case, do another gradient check with regularization\n",
    "loss, grad = softmax_loss_naive(W, X_dev, y_dev, 5e1)\n",
    "f = lambda w: softmax_loss_naive(w, X_dev, y_dev, 5e1)[0]\n",
    "grad_numerical = grad_check_sparse(f, W, grad, 10)"
   ]
  },
  {
   "cell_type": "code",
   "execution_count": 6,
   "metadata": {
    "collapsed": false
   },
   "outputs": [
    {
     "name": "stdout",
     "output_type": "stream",
     "text": [
      "naive loss: 2.317076e+00 computed in 0.171835s\n",
      "vectorized loss: 2.317076e+00 computed in 0.041288s\n",
      "Loss difference: 0.000000\n",
      "Gradient difference: 0.000000\n"
     ]
    }
   ],
   "source": [
    "# Now that we have a naive implementation of the softmax loss function and its gradient,\n",
    "# implement a vectorized version in softmax_loss_vectorized.\n",
    "# The two versions should compute the same results, but the vectorized version should be\n",
    "# much faster.\n",
    "tic = time.time()\n",
    "loss_naive, grad_naive = softmax_loss_naive(W, X_dev, y_dev, 0.000005)\n",
    "toc = time.time()\n",
    "print('naive loss: %e computed in %fs' % (loss_naive, toc - tic))\n",
    "\n",
    "from cs231n.classifiers.softmax import softmax_loss_vectorized\n",
    "tic = time.time()\n",
    "loss_vectorized, grad_vectorized = softmax_loss_vectorized(W, X_dev, y_dev, 0.000005)\n",
    "toc = time.time()\n",
    "print('vectorized loss: %e computed in %fs' % (loss_vectorized, toc - tic))\n",
    "\n",
    "# As we did for the SVM, we use the Frobenius norm to compare the two versions\n",
    "# of the gradient.\n",
    "grad_difference = np.linalg.norm(grad_naive - grad_vectorized, ord='fro')\n",
    "print('Loss difference: %f' % np.abs(loss_naive - loss_vectorized))\n",
    "print('Gradient difference: %f' % grad_difference)"
   ]
  },
  {
   "cell_type": "code",
   "execution_count": 8,
   "metadata": {
    "collapsed": false
   },
   "outputs": [
    {
     "name": "stdout",
     "output_type": "stream",
     "text": [
      "lr 1.000000e-08 reg 1.000000e+04 train accuracy: 0.156204 val accuracy: 0.169000\n",
      "lr 1.000000e-08 reg 2.000000e+04 train accuracy: 0.159102 val accuracy: 0.167000\n",
      "lr 1.000000e-08 reg 2.500000e+04 train accuracy: 0.158918 val accuracy: 0.142000\n",
      "lr 1.000000e-08 reg 3.000000e+04 train accuracy: 0.166551 val accuracy: 0.166000\n",
      "lr 1.000000e-08 reg 4.000000e+04 train accuracy: 0.166490 val accuracy: 0.187000\n",
      "lr 1.000000e-08 reg 5.000000e+04 train accuracy: 0.170980 val accuracy: 0.153000\n",
      "lr 1.000000e-08 reg 6.000000e+04 train accuracy: 0.176878 val accuracy: 0.178000\n",
      "lr 1.000000e-08 reg 7.000000e+04 train accuracy: 0.189980 val accuracy: 0.188000\n",
      "lr 1.000000e-07 reg 1.000000e+04 train accuracy: 0.330469 val accuracy: 0.337000\n",
      "lr 1.000000e-07 reg 2.000000e+04 train accuracy: 0.350918 val accuracy: 0.363000\n",
      "lr 1.000000e-07 reg 2.500000e+04 train accuracy: 0.348327 val accuracy: 0.360000\n",
      "lr 1.000000e-07 reg 3.000000e+04 train accuracy: 0.345143 val accuracy: 0.361000\n",
      "lr 1.000000e-07 reg 4.000000e+04 train accuracy: 0.340102 val accuracy: 0.351000\n",
      "lr 1.000000e-07 reg 5.000000e+04 train accuracy: 0.332408 val accuracy: 0.347000\n",
      "lr 1.000000e-07 reg 6.000000e+04 train accuracy: 0.327286 val accuracy: 0.347000\n",
      "lr 1.000000e-07 reg 7.000000e+04 train accuracy: 0.316490 val accuracy: 0.326000\n",
      "lr 2.000000e-07 reg 1.000000e+04 train accuracy: 0.373469 val accuracy: 0.390000\n",
      "lr 2.000000e-07 reg 2.000000e+04 train accuracy: 0.355918 val accuracy: 0.365000\n",
      "lr 2.000000e-07 reg 2.500000e+04 train accuracy: 0.351245 val accuracy: 0.366000\n",
      "lr 2.000000e-07 reg 3.000000e+04 train accuracy: 0.344510 val accuracy: 0.361000\n",
      "lr 2.000000e-07 reg 4.000000e+04 train accuracy: 0.336939 val accuracy: 0.352000\n",
      "lr 2.000000e-07 reg 5.000000e+04 train accuracy: 0.327408 val accuracy: 0.341000\n",
      "lr 2.000000e-07 reg 6.000000e+04 train accuracy: 0.311980 val accuracy: 0.328000\n",
      "lr 2.000000e-07 reg 7.000000e+04 train accuracy: 0.319122 val accuracy: 0.332000\n",
      "lr 3.000000e-07 reg 1.000000e+04 train accuracy: 0.373082 val accuracy: 0.385000\n",
      "lr 3.000000e-07 reg 2.000000e+04 train accuracy: 0.358327 val accuracy: 0.367000\n",
      "lr 3.000000e-07 reg 2.500000e+04 train accuracy: 0.348122 val accuracy: 0.366000\n",
      "lr 3.000000e-07 reg 3.000000e+04 train accuracy: 0.349020 val accuracy: 0.370000\n",
      "lr 3.000000e-07 reg 4.000000e+04 train accuracy: 0.337776 val accuracy: 0.350000\n",
      "lr 3.000000e-07 reg 5.000000e+04 train accuracy: 0.321122 val accuracy: 0.340000\n",
      "lr 3.000000e-07 reg 6.000000e+04 train accuracy: 0.324184 val accuracy: 0.338000\n",
      "lr 3.000000e-07 reg 7.000000e+04 train accuracy: 0.314673 val accuracy: 0.325000\n",
      "lr 4.000000e-07 reg 1.000000e+04 train accuracy: 0.376469 val accuracy: 0.392000\n",
      "lr 4.000000e-07 reg 2.000000e+04 train accuracy: 0.351653 val accuracy: 0.364000\n",
      "lr 4.000000e-07 reg 2.500000e+04 train accuracy: 0.350510 val accuracy: 0.350000\n",
      "lr 4.000000e-07 reg 3.000000e+04 train accuracy: 0.335531 val accuracy: 0.345000\n",
      "lr 4.000000e-07 reg 4.000000e+04 train accuracy: 0.331224 val accuracy: 0.353000\n",
      "lr 4.000000e-07 reg 5.000000e+04 train accuracy: 0.322959 val accuracy: 0.345000\n",
      "lr 4.000000e-07 reg 6.000000e+04 train accuracy: 0.323082 val accuracy: 0.338000\n",
      "lr 4.000000e-07 reg 7.000000e+04 train accuracy: 0.311429 val accuracy: 0.334000\n",
      "lr 5.000000e-07 reg 1.000000e+04 train accuracy: 0.374367 val accuracy: 0.389000\n",
      "lr 5.000000e-07 reg 2.000000e+04 train accuracy: 0.357735 val accuracy: 0.367000\n",
      "lr 5.000000e-07 reg 2.500000e+04 train accuracy: 0.352776 val accuracy: 0.360000\n",
      "lr 5.000000e-07 reg 3.000000e+04 train accuracy: 0.340327 val accuracy: 0.362000\n",
      "lr 5.000000e-07 reg 4.000000e+04 train accuracy: 0.330122 val accuracy: 0.344000\n",
      "lr 5.000000e-07 reg 5.000000e+04 train accuracy: 0.325449 val accuracy: 0.342000\n",
      "lr 5.000000e-07 reg 6.000000e+04 train accuracy: 0.312367 val accuracy: 0.325000\n",
      "lr 5.000000e-07 reg 7.000000e+04 train accuracy: 0.319959 val accuracy: 0.328000\n",
      "best validation accuracy achieved during cross-validation: 0.392000\n"
     ]
    }
   ],
   "source": [
    "# Use the validation set to tune hyperparameters (regularization strength and\n",
    "# learning rate). You should experiment with different ranges for the learning\n",
    "# rates and regularization strengths; if you are careful you should be able to\n",
    "# get a classification accuracy of over 0.35 on the validation set.\n",
    "from cs231n.classifiers import Softmax\n",
    "results = {}\n",
    "best_val = -1\n",
    "best_softmax = None\n",
    "learning_rates = [1e-8, 1e-7, 2e-7, 3e-7, 4e-7, 5e-7]\n",
    "regularization_strengths = [1e4, 2e4, 2.5e4, 3e4, 4e4, 5e4, 6e4, 7e4]\n",
    "\n",
    "# Use the validation set to set the learning rate and regularization strength.\n",
    "# This should be identical to the validation that you did for the SVM; save\n",
    "# the best trained softmax classifer in best_softmax.\n",
    "for lr in learning_rates:\n",
    "    for rs in regularization_strengths:\n",
    "        sft = Softmax()\n",
    "        sft.train(X_train, y_train, learning_rate = lr, reg = rs, num_iters = 1500)\n",
    "        y_train_pred = sft.predict(X_train)\n",
    "        y_val_pred = sft.predict(X_val)\n",
    "        training_accuracy = np.mean(y_train == y_train_pred)\n",
    "        validation_accuracy = np.mean(y_val == y_val_pred)\n",
    "        results[(lr, rs)] = (training_accuracy, validation_accuracy)\n",
    "        if validation_accuracy > best_val:\n",
    "            best_val = validation_accuracy\n",
    "            best_softmax = sft\n",
    "\n",
    "\n",
    "# Print out results.\n",
    "for lr, reg in sorted(results):\n",
    "    train_accuracy, val_accuracy = results[(lr, reg)]\n",
    "    print('lr %e reg %e train accuracy: %f val accuracy: %f' % (\n",
    "                lr, reg, train_accuracy, val_accuracy))\n",
    "    \n",
    "print('best validation accuracy achieved during cross-validation: %f' % best_val)"
   ]
  },
  {
   "cell_type": "code",
   "execution_count": 9,
   "metadata": {
    "collapsed": false
   },
   "outputs": [
    {
     "name": "stdout",
     "output_type": "stream",
     "text": [
      "softmax on raw pixels final test set accuracy: 0.369000\n"
     ]
    }
   ],
   "source": [
    "# evaluate on test set\n",
    "# Evaluate the best softmax on test set\n",
    "y_test_pred = best_softmax.predict(X_test)\n",
    "test_accuracy = np.mean(y_test == y_test_pred)\n",
    "print('softmax on raw pixels final test set accuracy: %f' % (test_accuracy, ))"
   ]
  },
  {
   "cell_type": "code",
   "execution_count": 10,
   "metadata": {
    "collapsed": false
   },
   "outputs": [
    {
     "data": {
      "image/png": "[encoded data removed]",
      "text/plain": [
       "<matplotlib.figure.Figure at 0x7fcbc80e8be0>"
      ]
     },
     "metadata": {},
     "output_type": "display_data"
    }
   ],
   "source": [
    "# Visualize the learned weights for each class\n",
    "w = best_softmax.W[:-1,:] # strip out the bias\n",
    "w = w.reshape(32, 32, 3, 10)\n",
    "\n",
    "w_min, w_max = np.min(w), np.max(w)\n",
    "\n",
    "classes = ['plane', 'car', 'bird', 'cat', 'deer', 'dog', 'frog', 'horse', 'ship', 'truck']\n",
    "for i in range(10):\n",
    "    plt.subplot(2, 5, i + 1)\n",
    "    \n",
    "    # Rescale the weights to be between 0 and 255\n",
    "    wimg = 255.0 * (w[:, :, :, i].squeeze() - w_min) / (w_max - w_min)\n",
    "    plt.imshow(wimg.astype('uint8'))\n",
    "    plt.axis('off')\n",
    "    plt.title(classes[i])"
   ]
  },
  {
   "cell_type": "code",
   "execution_count": null,
   "metadata": {
    "collapsed": true
   },
   "outputs": [],
   "source": []
  }
 ],
 "metadata": {
  "kernelspec": {
   "display_name": "Python 3",
   "language": "python",
   "name": "python3"
  },
  "language_info": {
   "codemirror_mode": {
    "name": "ipython",
    "version": 3
   },
   "file_extension": ".py",
   "mimetype": "text/x-python",
   "name": "python",
   "nbconvert_exporter": "python",
   "pygments_lexer": "ipython3",
   "version": "3.5.3"
  }
 },
 "nbformat": 4,
 "nbformat_minor": 1
}
